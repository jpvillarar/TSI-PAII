{
  "nbformat": 4,
  "nbformat_minor": 0,
  "metadata": {
    "colab": {
      "provenance": [],
      "include_colab_link": true
    },
    "kernelspec": {
      "name": "python3",
      "display_name": "Python 3"
    },
    "language_info": {
      "name": "python"
    }
  },
  "cells": [
    {
      "cell_type": "markdown",
      "metadata": {
        "id": "view-in-github",
        "colab_type": "text"
      },
      "source": [
        "<a href=\"https://colab.research.google.com/github/jpvillarar/TSI-PAII/blob/master/Unidad_1_Numpy.ipynb\" target=\"_parent\"><img src=\"https://colab.research.google.com/assets/colab-badge.svg\" alt=\"Open In Colab\"/></a>"
      ]
    },
    {
      "cell_type": "markdown",
      "source": [
        "#Creacion de arreglos\n",
        "1. Generar un arreglo cuya forma sea = (2,3,4)"
      ],
      "metadata": {
        "id": "cBTa0LhH0mHO"
      }
    },
    {
      "cell_type": "code",
      "execution_count": null,
      "metadata": {
        "colab": {
          "base_uri": "https://localhost:8080/"
        },
        "id": "m772hyPgzrlV",
        "outputId": "6d5230b7-ad23-42bc-d83e-191eee4b3f4d"
      },
      "outputs": [
        {
          "output_type": "stream",
          "name": "stdout",
          "text": [
            "[[[1 2 3 4]\n",
            "  [2 3 4 5]\n",
            "  [7 6 4 5]]\n",
            "\n",
            " [[1 2 3 4]\n",
            "  [2 3 4 5]\n",
            "  [7 6 4 5]]]\n",
            "[[[36 18 63  9]\n",
            "  [28 92 34 19]\n",
            "  [84 84 58  4]]\n",
            "\n",
            " [[72 79 52 15]\n",
            "  [35 81 53 38]\n",
            "  [31 49 50 45]]]\n",
            "[[[0. 0. 0. 0.]\n",
            "  [0. 0. 0. 0.]\n",
            "  [0. 0. 0. 0.]]\n",
            "\n",
            " [[0. 0. 0. 0.]\n",
            "  [0. 0. 0. 0.]\n",
            "  [0. 0. 0. 0.]]]\n",
            "[[[1. 1. 1. 1.]\n",
            "  [1. 1. 1. 1.]\n",
            "  [1. 1. 1. 1.]]\n",
            "\n",
            " [[1. 1. 1. 1.]\n",
            "  [1. 1. 1. 1.]\n",
            "  [1. 1. 1. 1.]]]\n"
          ]
        }
      ],
      "source": [
        "import numpy as np\n",
        "\n",
        "a = np.array([[[1,2,3,4],\n",
        "               [2,3,4,5],\n",
        "               [7,6,4,5]],\n",
        "              [[1,2,3,4],\n",
        "               [2,3,4,5],\n",
        "               [7,6,4,5]]])\n",
        "\n",
        "b = np.random.randint(100,size=(2,3,4))\n",
        "\n",
        "c = np.zeros((2,3,4))\n",
        "d = np.ones((2,3,4))\n",
        "print(a)\n",
        "print(b)\n",
        "print(c)\n",
        "print(d)"
      ]
    },
    {
      "cell_type": "markdown",
      "source": [
        "## 2. En base a los siguientes array, obtener:\n",
        "* el valor del elemento que ocupe la cuarta columna de 2 fila de la segunda dim\n",
        "* los indices pares de la segunda dim\n",
        "* los valores pares de la primer dim\n",
        "* los elementos que sean mayores que 20\n"
      ],
      "metadata": {
        "id": "TkcQTG5F2pdh"
      }
    },
    {
      "cell_type": "code",
      "source": [
        "x = np.random.randint(100,size=(2,3,4))\n",
        "print(x)"
      ],
      "metadata": {
        "colab": {
          "base_uri": "https://localhost:8080/"
        },
        "id": "7aazG3Ey2ozC",
        "outputId": "874b1d72-054c-4399-99c1-9d5f43ff1860"
      },
      "execution_count": null,
      "outputs": [
        {
          "output_type": "stream",
          "name": "stdout",
          "text": [
            "[[[84 13 19 16]\n",
            "  [15 63 82 55]\n",
            "  [65 14 12 78]]\n",
            "\n",
            " [[87 27 69 82]\n",
            "  [75 18 85 48]\n",
            "  [ 1 67 97 69]]]\n"
          ]
        }
      ]
    },
    {
      "cell_type": "code",
      "source": [
        "print(x[1][1][3])\n",
        "print(x[1][::2,::2])\n",
        "print(x[0][x[0]%2==0]) #esto no es slicing, sino que es filtrado del arreglo\n",
        "print(x[x>20])"
      ],
      "metadata": {
        "colab": {
          "base_uri": "https://localhost:8080/"
        },
        "id": "qEIh-4QM297j",
        "outputId": "033a659f-0e0f-4432-deed-72b527841f8c"
      },
      "execution_count": null,
      "outputs": [
        {
          "output_type": "stream",
          "name": "stdout",
          "text": [
            "48\n",
            "[[87 69]\n",
            " [ 1 97]]\n",
            "[84 16 82 14 12 78]\n",
            "[84 63 82 55 65 78 87 27 69 82 75 85 48 67 97 69]\n"
          ]
        }
      ]
    },
    {
      "cell_type": "markdown",
      "source": [
        "3) Calcular la suma, min, max, mean de cada array"
      ],
      "metadata": {
        "id": "bdkNIVps5kVC"
      }
    },
    {
      "cell_type": "code",
      "source": [
        "print(x.sum())\n",
        "print(x.min())\n",
        "print(x.max())\n",
        "print(x.mean())"
      ],
      "metadata": {
        "colab": {
          "base_uri": "https://localhost:8080/"
        },
        "id": "60VIhL3k5nXy",
        "outputId": "e7212e88-4e26-41b2-c370-4a5239924104"
      },
      "execution_count": null,
      "outputs": [
        {
          "output_type": "stream",
          "name": "stdout",
          "text": [
            "1241\n",
            "1\n",
            "97\n",
            "51.708333333333336\n"
          ]
        }
      ]
    },
    {
      "cell_type": "markdown",
      "source": [
        "4. Reshape de un arreglo\n",
        "Crear un arreglo de 12 elementos y reconfigurarlo en una matriz (3,4)"
      ],
      "metadata": {
        "id": "nwojxodu6WmV"
      }
    },
    {
      "cell_type": "code",
      "source": [
        "f = np.arange(12)\n",
        "f"
      ],
      "metadata": {
        "colab": {
          "base_uri": "https://localhost:8080/"
        },
        "id": "FDaVHgGz52yS",
        "outputId": "572e276f-e2c2-40d7-b3df-1736b259cb06"
      },
      "execution_count": null,
      "outputs": [
        {
          "output_type": "execute_result",
          "data": {
            "text/plain": [
              "array([ 0,  1,  2,  3,  4,  5,  6,  7,  8,  9, 10, 11])"
            ]
          },
          "metadata": {},
          "execution_count": 23
        }
      ]
    },
    {
      "cell_type": "code",
      "source": [
        "f = f.reshape((3,4))\n",
        "print(f)\n",
        "#reshape(2,8) # no se puede cambiar la forma de la matriz a una que tenga un tamaño distinto\n"
      ],
      "metadata": {
        "colab": {
          "base_uri": "https://localhost:8080/"
        },
        "id": "EQPOHfVP6q4e",
        "outputId": "90ce99f3-985e-4a1e-d350-0fe0dc73f8c9"
      },
      "execution_count": null,
      "outputs": [
        {
          "output_type": "stream",
          "name": "stdout",
          "text": [
            "[[ 0  1  2  3]\n",
            " [ 4  5  6  7]\n",
            " [ 8  9 10 11]]\n"
          ]
        }
      ]
    },
    {
      "cell_type": "markdown",
      "source": [
        "5. Transposición de una matriz\n",
        "Crea una matriz 3x2 y calcula su transposición."
      ],
      "metadata": {
        "id": "hSqEJkaw7gcD"
      }
    },
    {
      "cell_type": "code",
      "source": [
        "m = np.array([[1,2],\n",
        "              [3,4],\n",
        "              [5,6]])\n",
        "t = m.T\n",
        "print(t.shape)"
      ],
      "metadata": {
        "colab": {
          "base_uri": "https://localhost:8080/"
        },
        "id": "0J9Ao8d17KBl",
        "outputId": "59642c33-f94f-4a24-d95d-d96bdc0d5372"
      },
      "execution_count": null,
      "outputs": [
        {
          "output_type": "stream",
          "name": "stdout",
          "text": [
            "(2, 3)\n"
          ]
        }
      ]
    },
    {
      "cell_type": "markdown",
      "source": [
        "6. En un arreglo (10,10), quedarse con las filas pares y las columnas impares"
      ],
      "metadata": {
        "id": "7FoVFPjy8DE1"
      }
    },
    {
      "cell_type": "code",
      "source": [
        "d = np.arange(100).reshape((10,10))\n",
        "print(d)"
      ],
      "metadata": {
        "colab": {
          "base_uri": "https://localhost:8080/"
        },
        "id": "hM_dG2Q171N7",
        "outputId": "a39f16ad-614f-4652-b93a-95ee1d0dbfcc"
      },
      "execution_count": null,
      "outputs": [
        {
          "output_type": "stream",
          "name": "stdout",
          "text": [
            "[[ 0  1  2  3  4  5  6  7  8  9]\n",
            " [10 11 12 13 14 15 16 17 18 19]\n",
            " [20 21 22 23 24 25 26 27 28 29]\n",
            " [30 31 32 33 34 35 36 37 38 39]\n",
            " [40 41 42 43 44 45 46 47 48 49]\n",
            " [50 51 52 53 54 55 56 57 58 59]\n",
            " [60 61 62 63 64 65 66 67 68 69]\n",
            " [70 71 72 73 74 75 76 77 78 79]\n",
            " [80 81 82 83 84 85 86 87 88 89]\n",
            " [90 91 92 93 94 95 96 97 98 99]]\n"
          ]
        }
      ]
    },
    {
      "cell_type": "code",
      "source": [
        "e = d[::2,1::2]\n",
        "print(e)"
      ],
      "metadata": {
        "colab": {
          "base_uri": "https://localhost:8080/"
        },
        "id": "xvDFB6gj8cQR",
        "outputId": "48a8ead8-6c4c-47cb-8f08-e789383517fe"
      },
      "execution_count": null,
      "outputs": [
        {
          "output_type": "stream",
          "name": "stdout",
          "text": [
            "[[ 1  3  5  7  9]\n",
            " [21 23 25 27 29]\n",
            " [41 43 45 47 49]\n",
            " [61 63 65 67 69]\n",
            " [81 83 85 87 89]]\n"
          ]
        }
      ]
    },
    {
      "cell_type": "markdown",
      "source": [
        "7. En un arreglo (5,5), quedarse con una submatriz (3,3). Pero que arranque en la 2 fila y en la 3 columna"
      ],
      "metadata": {
        "id": "g9xqDfNu9Tzu"
      }
    },
    {
      "cell_type": "code",
      "source": [
        "h = np.random.randint(100,size=(5,5))\n",
        "h"
      ],
      "metadata": {
        "colab": {
          "base_uri": "https://localhost:8080/"
        },
        "id": "pD0pyyVZ9nSP",
        "outputId": "dfddcc0c-c376-44b5-e8d1-17b2312e05c4"
      },
      "execution_count": null,
      "outputs": [
        {
          "output_type": "execute_result",
          "data": {
            "text/plain": [
              "array([[78, 84, 22, 98, 82],\n",
              "       [40, 70, 78, 17, 73],\n",
              "       [68, 90, 59, 95, 47],\n",
              "       [62, 87,  2, 24, 87],\n",
              "       [85, 50, 77, 28, 41]])"
            ]
          },
          "metadata": {},
          "execution_count": 33
        }
      ]
    },
    {
      "cell_type": "code",
      "source": [
        "print(h[1:4:,2::])"
      ],
      "metadata": {
        "colab": {
          "base_uri": "https://localhost:8080/"
        },
        "id": "WpBPWhJv9vab",
        "outputId": "19763def-7d5b-4df6-8477-857d5192bd01"
      },
      "execution_count": null,
      "outputs": [
        {
          "output_type": "stream",
          "name": "stdout",
          "text": [
            "[[78 17 73]\n",
            " [59 95 47]\n",
            " [ 2 24 87]]\n"
          ]
        }
      ]
    },
    {
      "cell_type": "markdown",
      "source": [
        "8. crear dos arreglos de 10 elementos cada uno y concatenarlos"
      ],
      "metadata": {
        "id": "Bjl23Tce-uxO"
      }
    },
    {
      "cell_type": "code",
      "source": [
        "#(2,10)\n",
        "a = np.arange(10)\n",
        "b = np.arange(20,30)\n",
        "print(np.vstack((a,b)))\n",
        "#(10,2)\n",
        "print(np.hstack((a,b)))\n",
        "print(np.hstack((a.T,b.T)).shape) # esto esta mal porque al trasponer genero arreglos (10,) y al apilar resultan en un (20,)\n",
        "print(np.column_stack((a.T,b.T)).shape)#column_stack si crea un arreglo con las columnas apiladas\n"
      ],
      "metadata": {
        "colab": {
          "base_uri": "https://localhost:8080/"
        },
        "id": "XEzHUyfr-_D0",
        "outputId": "9d9d0cca-1d77-4c9c-b2ac-ebbaf8a63921"
      },
      "execution_count": null,
      "outputs": [
        {
          "output_type": "stream",
          "name": "stdout",
          "text": [
            "[[ 0  1  2  3  4  5  6  7  8  9]\n",
            " [20 21 22 23 24 25 26 27 28 29]]\n",
            "[ 0  1  2  3  4  5  6  7  8  9 20 21 22 23 24 25 26 27 28 29]\n",
            "(20,)\n",
            "(10, 2)\n"
          ]
        }
      ]
    },
    {
      "cell_type": "code",
      "source": [
        "x = np.random.randint(10,size=(3,3))+1\n",
        "y = np.random.randint(10,size=(1,3))+1\n",
        "print(x)\n",
        "print(y)"
      ],
      "metadata": {
        "colab": {
          "base_uri": "https://localhost:8080/"
        },
        "id": "J3vzwAasB45e",
        "outputId": "2a84afba-804a-4050-93d1-db4b5a10ca3d"
      },
      "execution_count": null,
      "outputs": [
        {
          "output_type": "stream",
          "name": "stdout",
          "text": [
            "[[ 1 10  9]\n",
            " [ 7  8  3]\n",
            " [ 3  6  3]]\n",
            "[[3]\n",
            " [7]\n",
            " [2]]\n"
          ]
        }
      ]
    },
    {
      "cell_type": "code",
      "source": [
        "x+y"
      ],
      "metadata": {
        "colab": {
          "base_uri": "https://localhost:8080/"
        },
        "id": "Zc52br93COuf",
        "outputId": "f1c9539c-2998-4356-9bab-c8d18bbe5e3e"
      },
      "execution_count": null,
      "outputs": [
        {
          "output_type": "execute_result",
          "data": {
            "text/plain": [
              "array([[ 4, 13, 12],\n",
              "       [14, 15, 10],\n",
              "       [ 5,  8,  5]])"
            ]
          },
          "metadata": {},
          "execution_count": 75
        }
      ]
    },
    {
      "cell_type": "markdown",
      "source": [
        "9.\n",
        "Calcular la suma de los últimos 6 valores de x con los primeros 8 de y\n",
        "\n",
        "Calcular la suma total de los valores en índices impares de x"
      ],
      "metadata": {
        "id": "_NnHH6tXG0A6"
      }
    },
    {
      "cell_type": "code",
      "source": [
        "x = np.array([1, 2, 3, 4, 5, 6, 7, 8, 9, 10])\n",
        "y = np.array([11, 12, 13, 14, 15, 16, 17, 18, 19, 20])\n",
        "\n",
        "print(x[5:].sum()+y[:8].sum())\n",
        "print(x[1::2].sum())"
      ],
      "metadata": {
        "colab": {
          "base_uri": "https://localhost:8080/"
        },
        "id": "1mq2IcaTG6Fy",
        "outputId": "0ed2de8f-9ed1-41dc-f6df-9af6813372d3"
      },
      "execution_count": null,
      "outputs": [
        {
          "output_type": "stream",
          "name": "stdout",
          "text": [
            "156\n",
            "30\n"
          ]
        }
      ]
    },
    {
      "cell_type": "markdown",
      "source": [
        "10. Realizar el producto matricial entre dos matrices A y B"
      ],
      "metadata": {
        "id": "pLS8i80yIQ9z"
      }
    },
    {
      "cell_type": "code",
      "source": [
        "A = np.array([[1, 2],\n",
        "              [3, 4]])\n",
        "B = np.array([[5, 6],\n",
        "              [7, 8]])\n",
        "\n",
        "print(A*B)"
      ],
      "metadata": {
        "colab": {
          "base_uri": "https://localhost:8080/"
        },
        "id": "qcdBUZkJHhje",
        "outputId": "7011fdfd-65a0-473f-822f-2f47d9de45d7"
      },
      "execution_count": null,
      "outputs": [
        {
          "output_type": "stream",
          "name": "stdout",
          "text": [
            "[[ 5 12]\n",
            " [21 32]]\n"
          ]
        }
      ]
    },
    {
      "cell_type": "markdown",
      "source": [
        "11. Construir un arreglo v de forma (10, 2) usando x e y, y calcular el promedio por fila y columna"
      ],
      "metadata": {
        "id": "cU4ao-Q7Ifw6"
      }
    },
    {
      "cell_type": "code",
      "source": [
        "v = np.vstack((x,y))\n",
        "print(v)\n",
        "# print(v[0].mean()) #promedio de la fila 0\n",
        "# print(v[1].mean()) #promedio de la fila 1\n",
        "\n",
        "print(v.mean(axis=1))#eje 1 = filas\n",
        "print(v.mean(axis=0))#eje 0 = columnas"
      ],
      "metadata": {
        "colab": {
          "base_uri": "https://localhost:8080/"
        },
        "id": "6AuSRfUIIXvU",
        "outputId": "eb26138a-7257-48f5-f8b9-dcfb51d845cd"
      },
      "execution_count": null,
      "outputs": [
        {
          "output_type": "stream",
          "name": "stdout",
          "text": [
            "[[ 1  2  3  4  5  6  7  8  9 10]\n",
            " [11 12 13 14 15 16 17 18 19 20]]\n",
            "6.0\n",
            "[ 5.5 15.5]\n",
            "[ 6.  7.  8.  9. 10. 11. 12. 13. 14. 15.]\n"
          ]
        }
      ]
    },
    {
      "cell_type": "markdown",
      "source": [
        "12. Ordenar el arreglo x de forma descendente"
      ],
      "metadata": {
        "id": "4xTkx6npKElO"
      }
    },
    {
      "cell_type": "code",
      "source": [
        "z = sorted(x,reverse=True) # retorna un arreglo ordenado\n",
        "print(z)\n",
        "z.sort() #ordena el arreglo\n",
        "print(z)"
      ],
      "metadata": {
        "colab": {
          "base_uri": "https://localhost:8080/"
        },
        "id": "YJW8LvUHKgyq",
        "outputId": "1ab535e0-4b40-42f3-f615-66eaaf9aa9be"
      },
      "execution_count": null,
      "outputs": [
        {
          "output_type": "stream",
          "name": "stdout",
          "text": [
            "[10, 9, 8, 7, 6, 5, 4, 3, 2, 1]\n",
            "[1, 2, 3, 4, 5, 6, 7, 8, 9, 10]\n"
          ]
        }
      ]
    },
    {
      "cell_type": "markdown",
      "source": [
        "13. Definir una funcion que calcule la media por columna de una matriz solo si la matriz tiene numero par de filas. En el caso de que la matriz sea 3D, calcular la media por columna dentro de cada dimension"
      ],
      "metadata": {
        "id": "GmM9n57sMYHV"
      }
    },
    {
      "cell_type": "code",
      "source": [
        "def funcion(matriz):\n",
        "  resultado = []\n",
        "  if len(matriz.shape)>2:\n",
        "    if matriz.shape[1] %2==0:\n",
        "      for i in matriz:\n",
        "        resultado.append(i.mean(axis=0))\n",
        "    else: print(\"tiene cantidad de filas impar\")\n",
        "  elif len(matriz.shape)==2:\n",
        "    if matriz.shape[0] %2==0:\n",
        "      resultado = matriz.mean(axis=0)\n",
        "    else: print(\"tiene cantidad de filas impar\")\n",
        "  else: print(\"la matriz es unidimensional\")\n",
        "  return resultado\n"
      ],
      "metadata": {
        "id": "_YzjidqzMpfJ"
      },
      "execution_count": null,
      "outputs": []
    },
    {
      "cell_type": "code",
      "source": [
        "#matriz = np.random.randint(10,size=(2,3))\n",
        "print(matriz)\n",
        "len(matriz.shape)"
      ],
      "metadata": {
        "colab": {
          "base_uri": "https://localhost:8080/"
        },
        "id": "CB1oDxd_Na-G",
        "outputId": "a02857fe-5935-49bb-fe89-bbb063f04a6f"
      },
      "execution_count": null,
      "outputs": [
        {
          "output_type": "stream",
          "name": "stdout",
          "text": [
            "[[5 7 2]\n",
            " [7 3 9]]\n"
          ]
        },
        {
          "output_type": "execute_result",
          "data": {
            "text/plain": [
              "2"
            ]
          },
          "metadata": {},
          "execution_count": 122
        }
      ]
    },
    {
      "cell_type": "code",
      "source": [
        "matriz2 = np.random.randint(10,size=(2,2,3))\n",
        "print(matriz2)\n",
        "len(matriz2.shape)\n",
        "#funcion(matriz2)\n",
        "print(funcion(matriz2))"
      ],
      "metadata": {
        "colab": {
          "base_uri": "https://localhost:8080/"
        },
        "id": "sMt4Gu-dQUIm",
        "outputId": "16970723-3f87-479c-e810-65d6372ce2c3"
      },
      "execution_count": null,
      "outputs": [
        {
          "output_type": "stream",
          "name": "stdout",
          "text": [
            "[[[5 7 6]\n",
            "  [5 7 2]]\n",
            "\n",
            " [[1 3 1]\n",
            "  [7 1 2]]]\n",
            "[array([5., 7., 4.]), array([4. , 2. , 1.5])]\n"
          ]
        }
      ]
    },
    {
      "cell_type": "markdown",
      "source": [
        "14. Definir una funcion que guarde solo los valores de las filas impares de una matriz tridimensional, guarde las filas impares de cada dimension en una matriz temporal y devuelva como resultado la concatenacion vertical de estas filas"
      ],
      "metadata": {
        "id": "e_5rWDWmTfXo"
      }
    },
    {
      "cell_type": "code",
      "source": [
        "matriz2"
      ],
      "metadata": {
        "colab": {
          "base_uri": "https://localhost:8080/"
        },
        "id": "a_7cgoVoUDWv",
        "outputId": "037f2729-5e05-41c7-a058-037c566aa3da"
      },
      "execution_count": null,
      "outputs": [
        {
          "output_type": "execute_result",
          "data": {
            "text/plain": [
              "array([[[7, 1, 3],\n",
              "        [1, 4, 5]],\n",
              "\n",
              "       [[6, 3, 1],\n",
              "        [9, 9, 3]]])"
            ]
          },
          "metadata": {},
          "execution_count": 143
        }
      ]
    },
    {
      "cell_type": "code",
      "source": [
        "def filas_impares(matriz):\n",
        "  lista = []\n",
        "  if len(matriz.shape)==3:\n",
        "    for i in matriz:\n",
        "      lista.append(i[1::2])\n",
        "    resultado = np.vstack(lista)\n",
        "  return resultado"
      ],
      "metadata": {
        "id": "fvSMAOzzURmu"
      },
      "execution_count": null,
      "outputs": []
    },
    {
      "cell_type": "code",
      "source": [
        "filas_impares(matriz2)"
      ],
      "metadata": {
        "colab": {
          "base_uri": "https://localhost:8080/"
        },
        "id": "Yr2ma1QZVCDz",
        "outputId": "c5031acb-10bc-4c07-8570-4d36132e177c"
      },
      "execution_count": null,
      "outputs": [
        {
          "output_type": "execute_result",
          "data": {
            "text/plain": [
              "array([[1, 4, 5],\n",
              "       [9, 9, 3]])"
            ]
          },
          "metadata": {},
          "execution_count": 153
        }
      ]
    },
    {
      "cell_type": "markdown",
      "source": [
        "15. Definir una funcion que reemplace todos los valores en la ultima dimension por un valor determinado que sean menores que un numero determinado"
      ],
      "metadata": {
        "id": "IPZRP6whWoOI"
      }
    },
    {
      "cell_type": "code",
      "source": [
        "def reemplazo(matriz,minimo,reemplazo):\n",
        "  matriz_copy = matriz.copy() #devuelve una copia de mi objeto original\n",
        "  matriz_copy[-1][matriz_copy[-1]<minimo] = reemplazo\n",
        "  return matriz_copy"
      ],
      "metadata": {
        "id": "s5Jy93SfW_ew"
      },
      "execution_count": null,
      "outputs": []
    },
    {
      "cell_type": "code",
      "source": [
        "matriz3 = reemplazo(matriz2,5,-3)\n",
        "print(matriz2)\n",
        "print(matriz3)"
      ],
      "metadata": {
        "colab": {
          "base_uri": "https://localhost:8080/"
        },
        "id": "QHqpcRU5YGle",
        "outputId": "9b93ac05-24fd-4225-9613-8123ac4e248c"
      },
      "execution_count": null,
      "outputs": [
        {
          "output_type": "stream",
          "name": "stdout",
          "text": [
            "[[[ 5  7  6]\n",
            "  [ 5  7  2]]\n",
            "\n",
            " [[-3 -3 -3]\n",
            "  [ 7 -3 -3]]]\n",
            "[[[ 5  7  6]\n",
            "  [ 5  7  2]]\n",
            "\n",
            " [[-3 -3 -3]\n",
            "  [ 7 -3 -3]]]\n"
          ]
        }
      ]
    },
    {
      "cell_type": "code",
      "source": [
        "matriz3 = matriz2[-1]\n",
        "matriz3[matriz3<5] = -3\n",
        "matriz4 = matriz3[1::2]\n",
        "print(matriz2)\n",
        "print(matriz4)"
      ],
      "metadata": {
        "colab": {
          "base_uri": "https://localhost:8080/"
        },
        "id": "7vqGhVQfa0Ms",
        "outputId": "e61496d2-7bb4-4396-bab4-de34f9f2376a"
      },
      "execution_count": null,
      "outputs": [
        {
          "output_type": "stream",
          "name": "stdout",
          "text": [
            "[[[ 5  7  6]\n",
            "  [ 5  7  2]]\n",
            "\n",
            " [[-3 -3 -3]\n",
            "  [ 7 -3 -3]]]\n",
            "[[ 7 -3 -3]]\n"
          ]
        }
      ]
    }
  ]
}